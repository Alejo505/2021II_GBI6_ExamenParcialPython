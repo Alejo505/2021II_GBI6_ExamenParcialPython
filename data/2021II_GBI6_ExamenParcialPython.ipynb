{
 "cells": [
  {
   "cell_type": "markdown",
   "metadata": {},
   "source": [
    "<img src=\"https://www.ikiam.edu.ec/img/logo-ikiam-grey.png\" width=300 height=240 />\n",
    "\n",
    "# EXAMEN PARCIAL PYTHON\n",
    "    \n",
    "\n",
    "## GBI6-2021II: BIOINFORMÁTICA\n",
    "\n",
    "**Parra Ruiz Ariel Alejandro** \n",
    "\n",
    "**18-02-2021**"
   ]
  },
  {
   "cell_type": "markdown",
   "metadata": {},
   "source": [
    "<font color='red'>NO AGREGUE NUEVAS CELDAS, UTILICE ÚNICAMENTE LAS QUE ESTÁN CREADAS</font>\n"
   ]
  },
  {
   "cell_type": "markdown",
   "metadata": {},
   "source": [
    "### REQUERIMIENTOS PARA EL EXAMEN\n",
    "Para este examen se requiere dos documentos: \n",
    "\n",
    "1. Archivo ```miningscience.py``` donde tendrá dos funciones:\n",
    "\n",
    "2. Archivo ```2021II_GBI6_ExamenParcialPython``` donde se llamará las funciones y se obtendrá resultados."
   ]
  },
  {
   "cell_type": "markdown",
   "metadata": {},
   "source": [
    "## Ejercicio 1 [2 puntos]\n",
    "Cree el archivo ```miningscience.py``` con las siguientes dosfunciones:\n",
    "    \n",
    "i. ```download_pubmed```: para descargar la data de PubMed utilizando el **ENTREZ** de Biopython. El parámetro de entrada para la función es el ```keyword```. \n",
    "    \n",
    "ii. ```mining_pubs```: esta función debe utilizar el módulo **re** y utilizar el párametro ```tipo``` para realizar lo siguiente:\n",
    "        \n",
    "* Si el tipo es \"DP\" recupera el año de publicación del artículo. El retorno es un *dataframe* con el **PMID** y el **DP_year**.\n",
    "      \n",
    "* Si el tipo es \"AU\" recupera el número de autores por **PMID**. El retorno es un *dataframe* con el **PMID** y el **num_auth**. \n",
    "      \n",
    "* Si el tipo es \"AD\" recupera el conteo de autores por país. El retorno es un *dataframe* con el **country** y el **num_auth**. \n",
    "\n",
    "* *Puede utilizar un ```if``` dentro de la función.* \n",
    "\n",
    "* *Cree un docstring para cada función.* \n",
    "\n",
    "Luego de crear las funciones, cargue el módulo ```miningscience``` como ```msc``` e imprima docstring de cada función.\n",
    "\n",
    "\n"
   ]
  },
  {
   "cell_type": "code",
   "execution_count": 148,
   "metadata": {},
   "outputs": [
    {
     "name": "stdout",
     "output_type": "stream",
     "text": [
      "Help on function download_pubmed in module miningscience:\n",
      "\n",
      "download_pubmed(keyword)\n",
      "    La función download_pubmed me devuelve la información de las publicaciones\n",
      "    o artículos de la búsqueda Ecuador genomics\n",
      "    from Bio import Entrez\n",
      "    Entrez.email = \"ariel.parra@est.ikiam.edu.ec\"\n",
      "    handle = Entrez.esearch(db=\"pubmed\", term=keyword)\n",
      "    record = Entrez.read(handle)\n",
      "    return(record)\n",
      "\n",
      "Help on function mining_pubs in module miningscience:\n",
      "\n",
      "mining_pubs(tipo)\n",
      "        La función minco usa los módulos re y Bio con la función Entrez y Medline.\n",
      "        Con el parámetro tipo, la función regresa lo siguiente:\n",
      "        Si el tipo es \"DP\" recupera el año de publicación del artículo. El retorno es un dataframe con el PMID y el DP_year.\n",
      "        Si el tipo es \"AU\" recupera el número de autores por PMID. El retorno es un dataframe con el PMID y el num_auth.\n",
      "        Si el tipo es \"AD\" recupera el conteo de autores por país. El retorno es un dataframe con el country y el num_auth.\n",
      "        def mining_pub(tipo):\n",
      "        from Bio import Entrez\n",
      "        from Bio import Medline\n",
      "        import re\n",
      "        import pandas as pd\n",
      "        handle = Entrez.esearch(db=\"pubmed\",term=\"Ecuador genomics\",encoding=\"uft8\",retmode=\"text\",retmax=192)\n",
      "        record = Entrez.read(handle)\n",
      "        id_list=record[\"IdList\"]\n",
      "        handel = Entrez.efetch(db=\"pubmed\", id= id_list, rettype=\"medline\", retmode=\"text\")\n",
      "        listas=handel.read()\n",
      "        hand = Entrez.efetch(db=\"pubmed\", id= id_list, rettype=\"medline\", retmode=\"text\")\n",
      "        records = Medline.parse(hand)\n",
      "        texto = re.sub(r'\n",
      "    \\s{6}', ' ', listas)\n",
      "        PMID = re.findall(r\"PMID\\-\\s(\\d{8})\", texto)\n",
      "        DPs = re.findall(r\"DP\\s\\s\\-\\s(\\d{4})\", texto)\n",
      "        AUs=[]\n",
      "        for record in records:\n",
      "            au=record.get(\"AU\", \"?\")\n",
      "            len(au)\n",
      "            AUs.append(len(au))   \n",
      "        AD = re.findall(r\"AD\\s\\s\\-\\s.*\\,\\s([\\sA-Za-z{2:50}]+)\\.\", texto)\n",
      "        countries = list(set(AD))\n",
      "        ADs=[]\n",
      "        for cop in countries:\n",
      "            pre=len(cop)\n",
      "            ADs.append(pre)\n",
      "            \n",
      "        if tipo==\"PD\":\n",
      "            df= pd.DataFrame({'PMID' : PMID,\n",
      "                            'DP_year' : DPs})\n",
      "            \n",
      "        elif tipo==\"AU\":\n",
      "            df= pd.DataFrame({'PMID' : PMID,\n",
      "                            'num_auth' : AUs})  \n",
      "        elif tipo==\"AD\":\n",
      "            df= pd.DataFrame({'country' : countries,\n",
      "                            'num_auth' : ADs})  \n",
      "        return(df)\n",
      "\n"
     ]
    }
   ],
   "source": [
    "import miningscience as msc\n",
    "\n",
    "help(msc.download_pubmed)\n",
    "help(msc.mining_pubs)"
   ]
  },
  {
   "cell_type": "markdown",
   "metadata": {},
   "source": [
    "\n",
    "## Ejercicio 2 [1 punto]\n",
    "\n",
    "\n",
    "Utilice la función ```download_pubmed``` para descargar la data con el keyword ```Ecuador genomics``` e imprima lo siguiente: \n",
    "\n",
    "```python\n",
    "'El número de artículos es: xx' # xx corresponde al número de artículos recuperados\n",
    "\n",
    "'El PMID del primer artículo es: xxxxxxxx' # xxxxxxxx corresponde al ID del artículo en PUDMED\n",
    "\n",
    "```"
   ]
  },
  {
   "cell_type": "code",
   "execution_count": 149,
   "metadata": {},
   "outputs": [
    {
     "name": "stdout",
     "output_type": "stream",
     "text": [
      "El número de artículos es:  193\n",
      "El PMID del primer artículo es: 35121084\n"
     ]
    }
   ],
   "source": [
    "c=msc.download_pubmed(keyword=\"Ecuador genomics\")\n",
    "        \n",
    "print(\"El número de artículos es: \", c[\"Count\"])\n",
    "print(\"El PMID del primer artículo es:\", c[\"IdList\"][0])\n"
   ]
  },
  {
   "cell_type": "markdown",
   "metadata": {},
   "source": [
    "## Ejercicio 3 [1 punto]\n",
    "\n",
    "Utilice la función ```mining_pubs``` para crear los siguientes dataframes: \n",
    "\n",
    "* pub_year\n",
    "\n",
    "* pub_authors\n",
    "\n",
    "* coutries\n",
    "\n",
    "Muestre los dos primeros y los dos últimos registros de cada dataframe. "
   ]
  },
  {
   "cell_type": "code",
   "execution_count": 150,
   "metadata": {},
   "outputs": [
    {
     "name": "stdout",
     "output_type": "stream",
     "text": [
      "    pub_year\n",
      "         PMID DP_year\n",
      "0    35121084    2022\n",
      "1    35120121    2022\n",
      "190  19018989    2008\n",
      "191  17187350    2007\n",
      "\n",
      "    pub_authors\n",
      "         PMID  num_auth\n",
      "0    35121084        12\n",
      "1    35120121        14\n",
      "190  19018989         7\n",
      "191  17187350         1\n",
      "\n",
      "    countries\n",
      "           country  num_auth\n",
      "0       Washington        10\n",
      "1            Wales         5\n",
      "199  New Caledonia        13\n",
      "200        Croatia         7\n"
     ]
    }
   ],
   "source": [
    "# Escriba aquí su código para el ejercicio 3   \n",
    "import pandas as pd\n",
    "print(\"    pub_year\")\n",
    "df1=msc.mining_pubs(tipo=\"PD\")\n",
    "print(pd.concat([df1.iloc[:2],df1.iloc[190:]]))\n",
    "print(\"\")\n",
    "print(\"    pub_authors\")\n",
    "df2=msc.mining_pubs(tipo=\"AU\")\n",
    "print(pd.concat([df2.iloc[:2],df2.iloc[190:]]))\n",
    "print(\"\")\n",
    "print(\"    countries\")\n",
    "df3=msc.mining_pubs(tipo=\"AD\")\n",
    "print(pd.concat([df3.iloc[:2],df3.iloc[199:]]))"
   ]
  },
  {
   "cell_type": "markdown",
   "metadata": {
    "jp-MarkdownHeadingCollapsed": true,
    "tags": []
   },
   "source": [
    "## Ejercicio 4 [2 puntos]\n",
    "\n",
    "Realice la visualización de los datos del ejercicio 3. \n",
    "\n",
    "* ```pubyear```: utilizando el conteo artículos por año, calcule la media y la desviación estandar (asumiendo que la distribución es normal). Realice un gráfico de la distribución normal de sus datos. Coloque el título, leyenda de los ejes \"x\" e \"y\", y la leyenda de la curva (utilice las expresiones matemáticas tipos latex de ser necesario). \n",
    "\n",
    "* ```pub_authors```: realice un boxplot del conteo de autores por artículo. Coloque las leyendas adecuadas para cada eje y el título.  \n",
    "\n",
    "* ```countries```: realice una nube de puntos (adaptación de su tarea), resalte al menos 3 países con flechas. Coloque las leyendas adecuadas para cada eje y el título. \n"
   ]
  },
  {
   "cell_type": "code",
   "execution_count": 151,
   "metadata": {},
   "outputs": [
    {
     "name": "stdout",
     "output_type": "stream",
     "text": [
      "media: 12.8\n",
      "desviación estandar: 12.70800272794011\n"
     ]
    },
    {
     "data": {
      "image/png": "[encoded data removed]",
      "text/plain": [
       "<Figure size 432x288 with 1 Axes>"
      ]
     },
     "metadata": {
      "needs_background": "light"
     },
     "output_type": "display_data"
    },
    {
     "data": {
      "image/png": "[encoded data removed]",
      "text/plain": [
       "<Figure size 720x720 with 1 Axes>"
      ]
     },
     "metadata": {
      "needs_background": "light"
     },
     "output_type": "display_data"
    },
    {
     "data": {
      "image/png": "[encoded data removed]",
      "text/plain": [
       "<Figure size 1296x864 with 2 Axes>"
      ]
     },
     "metadata": {
      "needs_background": "light"
     },
     "output_type": "display_data"
    }
   ],
   "source": [
    "import numpy as np\n",
    "import matplotlib.pyplot as plt\n",
    "import matplotlib.mlab as mlab\n",
    "import math\n",
    "import seaborn as sns\n",
    "import pandas as pd\n",
    "import scipy.stats as stats\n",
    "%matplotlib inline\n",
    "import numpy as np\n",
    "i=list(df1[\"DP_year\"])\n",
    "s=pd.Series(i)\n",
    "h=list(set(s))\n",
    "g=s\n",
    "f=h\n",
    "h=[0]*len(f)\n",
    "k=0\n",
    "for elem in f:\n",
    "    d=0\n",
    "    for comp in g:\n",
    "        if elem ==str(comp):\n",
    "            d=d+1\n",
    "    h[k]=d\n",
    "    k=k+1\n",
    "mean=np.average(h)\n",
    "print(\"media:\",mean)\n",
    "stan=np.std(h)\n",
    "print(\"desviación estandar:\",stan)\n",
    "x=np.linspace(mean -3*stan,mean +3*stan, 100)\n",
    "sigma=stan\n",
    "label='$\\mu = %.1f, \\ \\sigma^2=%.1f$' %(mean, stan)\n",
    "y_norm = stats.norm.pdf(x, mean, sigma)\n",
    "plt.plot(x, y_norm, label=label, c = \"blue\")\n",
    "plt.xlabel(\"Número de publicaciones\")\n",
    "plt.ylabel('Probabilidades')\n",
    "plt.title('Distribución Normal')\n",
    "plt.legend(title = \"Parámetros\")\n",
    "plt.show()\n",
    "\n",
    "###############################################################################\n",
    "df2=df2.drop(79)\n",
    "i=list(df2[\"num_auth\"])\n",
    "fig = plt.figure(1, figsize=(10, 10))\n",
    "ax = fig.add_subplot(111)\n",
    "bp = ax.boxplot(i)\n",
    "plt.xlabel('Autores')\n",
    "plt.ylabel('Artículos')\n",
    "plt.title('Boxplot de distribucion normales')\n",
    "plt.show()\n",
    "###############################################################################\n",
    "%matplotlib inline\n",
    "plt.scatter(-78.183406,-1.831239,s=7,alpha=1)\n",
    "plt.scatter(21.824312,  39.074208,s=6,alpha=1)\n",
    "plt.scatter(121.774017, 12.879721,s=12,alpha=1)\n",
    "plt.colorbar()\n",
    "\n",
    "plt.xlim(-150, 200)\n",
    "plt.ylim(-100, 100)\n",
    "# add Ecuador, Greece, Philippines.  \n",
    "ard = dict(arrowstyle=\"->\")\n",
    "plt.annotate('Ecuador', xy = ( -78.183406,-1.831239), \n",
    "               xytext = (-60.712891,1.09024 ), arrowprops = ard)\n",
    "plt.annotate('Greece', xy = (21.824312,  39.074208), \n",
    "               xytext = (13.639968,29.420695 ), arrowprops= ard)\n",
    "plt.annotate('Philippines', xy = (121.774017, 12.879721), \n",
    "               xytext = (115.92528,5.235004 ), arrowprops= ard)\n",
    "params = plt.gcf()\n",
    "plSize = params.get_size_inches()\n",
    "params.set_size_inches( (plSize[0] * 3, plSize[1] * 3) )\n",
    "plt.ylabel('Latitud')\n",
    "plt.xlabel('Longitud')\n",
    "plt.title(\"Número de artículos por país <Ecuador genomics>\")\n",
    "países=[\"Ecuador\", \"Greece\", \"Philippines\"]\n",
    "plt.legend(países,title = \"Países\",title_fontsize=15,fontsize=15,markerscale=5, handlelength=3)\n",
    "plt.show()"
   ]
  },
  {
   "cell_type": "markdown",
   "metadata": {},
   "source": [
    "## Ejercicio 5 [1 punto]\n",
    "\n",
    "Interprete los resultados del **ejercicio 4**"
   ]
  },
  {
   "cell_type": "markdown",
   "metadata": {},
   "source": [
    "#### Interpretación de la distribución normal\n",
    "Esto nos da a entender que el o los artículos que más se podrán encontrar son los de los años que se acercan a la media.\n",
    "#### Interpretación del boxplot\n",
    "El boxplot nos miestra que el 50% de autores se encuentran entre 5 y 15 artículos.\n",
    "#### Interpretación de la nube de puntos\n",
    "La nube de puntos indica a 3 países en donde el tamaño del punto define la cantidad de autores por cada país, en este caso se elijió a Ecuador, Grecia y Filipinas, los cuales no varían mucho en tamaño y por lo tanto tampoco en cantidad."
   ]
  },
  {
   "cell_type": "markdown",
   "metadata": {},
   "source": [
    "## Ejercicio 6 [2 puntos]\n",
    "\n",
    "Para algún gen de interés, realice lo siguiente: \n",
    "\n",
    "1. Una búsqueda en la página del [NCBI nucleotide](https://www.ncbi.nlm.nih.gov/nucleotide/).\n",
    "\n",
    "2. Descargue el ```Accession List``` de su búsqueda.\n",
    "\n",
    "3. Cargue el ```Accession List``` en este notebook y haga una descarga de la data tipo ```genbank``` utilizando los diez primeros IDs de accesión. \n",
    "\n",
    "4. Arme un árbol filogenético para los resultados del paso 3.\n",
    "\n",
    "5. Interprete el árbol del paso 4. "
   ]
  },
  {
   "cell_type": "code",
   "execution_count": null,
   "metadata": {},
   "outputs": [],
   "source": [
    "# Escriba aquí su código para el ejercicio 6\n",
    "from Bio import SeqIO\n",
    "from Bio import AlignIO\n",
    "from Bio import Phylo\n",
    "from Bio.Align.Applications import ClustalwCommandline\n",
    "import os\n",
    "from Bio.Phylo.TreeConstruction import DistanceCalculator\n",
    "from Bio.Phylo.TreeConstruction import DistanceTreeConstructor\n",
    "with open(\"sequence.seq\",\"r\") as f:\n",
    "    ClustalAlign = AlignIO.read(f, \"clustal\")\n",
    "print(ClustalAlign)\n",
    "calculator=DistanceCalculator(\"indetity\")\n",
    "distane_matriz=calculator.get_distance(ClustalAlign)\n",
    "#clustalw_exe = r\"C:\\Program Files (x86)\\ClustalW2\\clustalw2.exe\"\n",
    "#clustalw_cline = ClustalwCommandline(clustalw_exe, infile = f)\n",
    "#assert os.path.isfile(clustalw_exe), \"Clustal_W executable is missing or not found\"\n",
    "#stdout, stderr = clustalw_cline()\n",
    "#print(clustalw_cline)"
   ]
  },
  {
   "cell_type": "markdown",
   "metadata": {},
   "source": [
    "**Escriba aquí la interpretación del árbol**"
   ]
  },
  {
   "cell_type": "markdown",
   "metadata": {},
   "source": [
    "## Ejercicio 7 [1 punto]\n",
    "\n",
    "\n",
    "1. Cree en GitHub un repositorio de nombre ```GBI6_ExamenPython```. \n",
    "2. Cree un archivo ```Readme.md``` que debe tener lo siguiente: \n",
    "- Datos personales\n",
    "- Características del computador\n",
    "- Versión de Python/Anaconda y de cada uno de los módulos/paquetes y utilizados\n",
    "- Explicación de la data utilizada\n",
    "\n",
    "3. Cree un directorio de nombre ```data``` donde deben estar guardado la data utilizada \n",
    "4. Realice al menos 1 control de la versión (commits) por cada ejercicio (del 1 al 6), con un mensaje que inicie como: \n",
    "\n",
    "```sh \n",
    "Carlitos Alimaña ha realizado .....  \n",
    "```"
   ]
  }
 ],
 "metadata": {
  "kernelspec": {
   "display_name": "Python 3",
   "language": "python",
   "name": "python3"
  },
  "language_info": {
   "codemirror_mode": {
    "name": "ipython",
    "version": 3
   },
   "file_extension": ".py",
   "mimetype": "text/x-python",
   "name": "python",
   "nbconvert_exporter": "python",
   "pygments_lexer": "ipython3",
   "version": "3.8.8"
  },
  "latex_envs": {
   "LaTeX_envs_menu_present": true,
   "autoclose": false,
   "autocomplete": true,
   "bibliofile": "biblio.bib",
   "cite_by": "apalike",
   "current_citInitial": 1,
   "eqLabelWithNumbers": true,
   "eqNumInitial": 1,
   "hotkeys": {
    "equation": "Ctrl-E",
    "itemize": "Ctrl-I"
   },
   "labels_anchors": false,
   "latex_user_defs": false,
   "report_style_numbering": false,
   "user_envs_cfg": false
  },
  "toc": {
   "base_numbering": 1,
   "nav_menu": {},
   "number_sections": true,
   "sideBar": false,
   "skip_h1_title": false,
   "title_cell": "Table of Contents",
   "title_sidebar": "Contents",
   "toc_cell": false,
   "toc_position": {
    "height": "1152.67px",
    "left": "41px",
    "top": "110px",
    "width": "253.458px"
   },
   "toc_section_display": true,
   "toc_window_display": false
  },
  "varInspector": {
   "cols": {
    "lenName": 16,
    "lenType": 16,
    "lenVar": 40
   },
   "kernels_config": {
    "python": {
     "delete_cmd_postfix": "",
     "delete_cmd_prefix": "del ",
     "library": "var_list.py",
     "varRefreshCmd": "print(var_dic_list())"
    },
    "r": {
     "delete_cmd_postfix": ") ",
     "delete_cmd_prefix": "rm(",
     "library": "var_list.r",
     "varRefreshCmd": "cat(var_dic_list()) "
    }
   },
   "types_to_exclude": [
    "module",
    "function",
    "builtin_function_or_method",
    "instance",
    "_Feature"
   ],
   "window_display": false
  }
 },
 "nbformat": 4,
 "nbformat_minor": 4
}
